{
 "cells": [
  {
   "cell_type": "markdown",
   "metadata": {},
   "source": [
    "# Jin_Dan_ASSIGNMENT_1"
   ]
  },
  {
   "cell_type": "markdown",
   "metadata": {},
   "source": [
    "# 1) Load in the appropriate csv file as a pandas dataframe (batting.csv)"
   ]
  },
  {
   "cell_type": "code",
   "execution_count": null,
   "metadata": {
    "collapsed": true
   },
   "outputs": [],
   "source": [
    "import pandas as pd\n",
    "import numpy as np"
   ]
  },
  {
   "cell_type": "code",
   "execution_count": null,
   "metadata": {
    "collapsed": true
   },
   "outputs": [],
   "source": [
    "batting = pd.read_csv('batting.csv')"
   ]
  },
  {
   "cell_type": "markdown",
   "metadata": {},
   "source": [
    "# 2) Print out the dimensions and info about the dataframe you just created"
   ]
  },
  {
   "cell_type": "code",
   "execution_count": null,
   "metadata": {
    "scrolled": true
   },
   "outputs": [],
   "source": [
    "batting.shape"
   ]
  },
  {
   "cell_type": "code",
   "execution_count": null,
   "metadata": {},
   "outputs": [],
   "source": [
    "batting.info"
   ]
  },
  {
   "cell_type": "markdown",
   "metadata": {},
   "source": [
    "# 3)\tHow many players have hit 40 or more HRs in one single season? (Number only)"
   ]
  },
  {
   "cell_type": "code",
   "execution_count": null,
   "metadata": {},
   "outputs": [],
   "source": [
    "over40 = batting[(batting.HR >= 40)]\n",
    "over40['playerID'].nunique()\n"
   ]
  },
  {
   "cell_type": "markdown",
   "metadata": {},
   "source": [
    "# 4)\tHow many players have hit more than 600 HRs for their career? (Dataframe)"
   ]
  },
  {
   "cell_type": "code",
   "execution_count": null,
   "metadata": {
    "collapsed": true
   },
   "outputs": [],
   "source": [
    "by_playerID = batting.groupby(['playerID','nameFirst','nameLast'])"
   ]
  },
  {
   "cell_type": "code",
   "execution_count": null,
   "metadata": {
    "collapsed": true
   },
   "outputs": [],
   "source": [
    "m = by_playerID[['HR']].sum()"
   ]
  },
  {
   "cell_type": "code",
   "execution_count": null,
   "metadata": {},
   "outputs": [],
   "source": [
    "over600 = m[(m['HR'] > 600)]\n",
    "over600"
   ]
  },
  {
   "cell_type": "markdown",
   "metadata": {},
   "source": [
    "# 5)\tHow many players have hit 40 2Bs, 10 3Bs, 200 Hits, and 30 HRs (inclusive) in one season? (Number Only)"
   ]
  },
  {
   "cell_type": "code",
   "execution_count": null,
   "metadata": {
    "collapsed": true
   },
   "outputs": [],
   "source": [
    "bat1=batting.groupby(['playerID','yearID'],as_index=False).agg({'2B':sum,'3B':sum,'H':sum,'HR':sum})"
   ]
  },
  {
   "cell_type": "code",
   "execution_count": null,
   "metadata": {},
   "outputs": [],
   "source": [
    "bat1[(bat1['2B']>= 40)&(bat1['3B']>=10)&(bat1['H']>=200)&(bat1['HR']>=30)]['playerID'].nunique()"
   ]
  },
  {
   "cell_type": "markdown",
   "metadata": {},
   "source": [
    "# 6)\tHow many players have had 100 or more SBs in a season? (Dataframe)"
   ]
  },
  {
   "cell_type": "code",
   "execution_count": null,
   "metadata": {
    "collapsed": true
   },
   "outputs": [],
   "source": [
    "bat2 = batting.groupby(['yearID','playerID','nameFirst','nameLast']).agg({'SB':'sum'})"
   ]
  },
  {
   "cell_type": "code",
   "execution_count": null,
   "metadata": {},
   "outputs": [],
   "source": [
    "bat2[(bat2['SB']>=100)]"
   ]
  },
  {
   "cell_type": "markdown",
   "metadata": {},
   "source": [
    "# 7)\tHow many players in the 1960s have hit more than 200 HRs? (Dataframe)"
   ]
  },
  {
   "cell_type": "code",
   "execution_count": null,
   "metadata": {
    "collapsed": true
   },
   "outputs": [],
   "source": [
    "time1960s = batting[(batting['yearID']<= 1969 )&(batting['yearID']>=1960)]"
   ]
  },
  {
   "cell_type": "code",
   "execution_count": null,
   "metadata": {
    "collapsed": true
   },
   "outputs": [],
   "source": [
    "by_playerID_1960s = time1960s.groupby(['playerID','nameFirst','nameLast'])"
   ]
  },
  {
   "cell_type": "code",
   "execution_count": null,
   "metadata": {
    "collapsed": true
   },
   "outputs": [],
   "source": [
    "bp1960s_HR = by_playerID_1960s[['HR']].sum() "
   ]
  },
  {
   "cell_type": "code",
   "execution_count": null,
   "metadata": {},
   "outputs": [],
   "source": [
    "bp1960s_HR[(bp1960s_HR['HR']>200)]"
   ]
  },
  {
   "cell_type": "markdown",
   "metadata": {
    "collapsed": true
   },
   "source": [
    "# 8)\tWho has hit the most HRs in history? (Dataframe)"
   ]
  },
  {
   "cell_type": "code",
   "execution_count": null,
   "metadata": {},
   "outputs": [],
   "source": [
    "b = by_playerID.agg({'HR':'sum'})\n",
    "b[b['HR']==b['HR'].max()]"
   ]
  },
  {
   "cell_type": "markdown",
   "metadata": {},
   "source": [
    "# 9)\tWho had the most hits in the 1970s? (Dataframe)"
   ]
  },
  {
   "cell_type": "code",
   "execution_count": null,
   "metadata": {
    "collapsed": true
   },
   "outputs": [],
   "source": [
    "time1970s = batting[(batting['yearID']<= 1979 )&(batting['yearID']>=1970)]"
   ]
  },
  {
   "cell_type": "code",
   "execution_count": null,
   "metadata": {
    "collapsed": true
   },
   "outputs": [],
   "source": [
    "by_playerID_1970s = time1970s.groupby(['playerID','nameFirst','nameLast'])"
   ]
  },
  {
   "cell_type": "code",
   "execution_count": null,
   "metadata": {
    "collapsed": true
   },
   "outputs": [],
   "source": [
    "bp1970s_H=by_playerID_1970s.agg({'H':'sum'}) "
   ]
  },
  {
   "cell_type": "code",
   "execution_count": null,
   "metadata": {},
   "outputs": [],
   "source": [
    "bp1970s_H[(bp1970s_H['H'] == bp1970s_H['H'].max())]"
   ]
  },
  {
   "cell_type": "markdown",
   "metadata": {},
   "source": [
    "# 10)\tTop 5 highest OBP (on base percentage) with at least 500 PAs in 1977?  (Dataframe)"
   ]
  },
  {
   "cell_type": "code",
   "execution_count": null,
   "metadata": {
    "collapsed": true
   },
   "outputs": [],
   "source": [
    "u = batting[['playerID','nameFirst','nameLast','yearID','lgID','H','HR','BB','IBB','AB','SF','SH']].dropna()"
   ]
  },
  {
   "cell_type": "code",
   "execution_count": null,
   "metadata": {
    "collapsed": true
   },
   "outputs": [],
   "source": [
    "obp = (u['H']+u['BB']+u['IBB']+u['SH']+ u['SF'])/u['AB']"
   ]
  },
  {
   "cell_type": "code",
   "execution_count": null,
   "metadata": {
    "collapsed": true
   },
   "outputs": [],
   "source": [
    "pa = u['AB']+u['BB']+u['IBB']+u['SH']+u['SF']"
   ]
  },
  {
   "cell_type": "code",
   "execution_count": null,
   "metadata": {
    "collapsed": true
   },
   "outputs": [],
   "source": [
    "u['OBP']= obp"
   ]
  },
  {
   "cell_type": "code",
   "execution_count": null,
   "metadata": {
    "collapsed": true
   },
   "outputs": [],
   "source": [
    "u['PA'] = pa"
   ]
  },
  {
   "cell_type": "code",
   "execution_count": null,
   "metadata": {},
   "outputs": [],
   "source": [
    "u[(u['PA']>=500)&(u['yearID']==1977)].sort_values(by ='OBP',ascending=False)[0:5]\n"
   ]
  },
  {
   "cell_type": "markdown",
   "metadata": {},
   "source": [
    "# 11)\tTop 8 highest averages in 2013 with at least 300 PAs? (Dataframe"
   ]
  },
  {
   "cell_type": "code",
   "execution_count": null,
   "metadata": {
    "collapsed": true
   },
   "outputs": [],
   "source": [
    "average = u['H']/u['AB']"
   ]
  },
  {
   "cell_type": "code",
   "execution_count": null,
   "metadata": {
    "collapsed": true
   },
   "outputs": [],
   "source": [
    "u['Average'] = average"
   ]
  },
  {
   "cell_type": "code",
   "execution_count": null,
   "metadata": {},
   "outputs": [],
   "source": [
    "u[(u['yearID']==2013)&(u['PA']>=300)].sort_values(by='Average',ascending = False)[0:8]"
   ]
  },
  {
   "cell_type": "markdown",
   "metadata": {},
   "source": [
    "# 12)\tLeaders in hits from 1940 up to and including 1949. (Dataframe)"
   ]
  },
  {
   "cell_type": "code",
   "execution_count": null,
   "metadata": {
    "collapsed": true
   },
   "outputs": [],
   "source": [
    "# method 1"
   ]
  },
  {
   "cell_type": "code",
   "execution_count": null,
   "metadata": {
    "collapsed": true
   },
   "outputs": [],
   "source": [
    "p = batting[(batting['yearID']>=1940)&(batting['yearID']<=1949)]"
   ]
  },
  {
   "cell_type": "code",
   "execution_count": null,
   "metadata": {},
   "outputs": [],
   "source": [
    "p.groupby('yearID').apply(lambda yearID_df:yearID_df[yearID_df.H==yearID_df.H.max()])[['yearID','playerID','nameFirst','nameLast','H']]\n"
   ]
  },
  {
   "cell_type": "code",
   "execution_count": null,
   "metadata": {
    "collapsed": true
   },
   "outputs": [],
   "source": [
    "# method 2 (not good, because there might be several leaders who had same number of hits in \n",
    "# each year. method 1 is better)"
   ]
  },
  {
   "cell_type": "code",
   "execution_count": null,
   "metadata": {},
   "outputs": [],
   "source": [
    "p.sort_values(by='H', ascending = False).groupby('yearID',as_index=False).first()[['yearID','playerID','nameFirst','nameLast','H']]"
   ]
  },
  {
   "cell_type": "markdown",
   "metadata": {
    "collapsed": true
   },
   "source": [
    "# 13)\tWho led MLB with the most hits the most times?  And how many times?  (Dataframe, Number)"
   ]
  },
  {
   "cell_type": "code",
   "execution_count": null,
   "metadata": {
    "collapsed": true
   },
   "outputs": [],
   "source": [
    "q = batting.groupby('yearID').apply(lambda y_df:y_df[y_df.H==y_df.H.max()]) #each year's most hits\n"
   ]
  },
  {
   "cell_type": "code",
   "execution_count": null,
   "metadata": {},
   "outputs": [],
   "source": [
    "s = q.groupby(['playerID','nameFirst','nameLast']).agg({'H':'count'})\n",
    "s[(s.H==s.H.max())]"
   ]
  },
  {
   "cell_type": "markdown",
   "metadata": {},
   "source": [
    "# 14) Which players have played the most games for their careers?  Top 5, descending by games played presented as a dataframe"
   ]
  },
  {
   "cell_type": "code",
   "execution_count": null,
   "metadata": {},
   "outputs": [],
   "source": [
    "batting.groupby(['playerID','nameFirst','nameLast']).agg({'G':'sum'}).sort_values(by='G',ascending=False).head()"
   ]
  },
  {
   "cell_type": "markdown",
   "metadata": {},
   "source": [
    "# 15) How many players have had more than 3000 hits for their careers while also hitting 500 or more HRs?  Just a number is okay here"
   ]
  },
  {
   "cell_type": "code",
   "execution_count": null,
   "metadata": {
    "collapsed": true
   },
   "outputs": [],
   "source": [
    "c = batting.groupby('playerID')[['H','HR']].sum()"
   ]
  },
  {
   "cell_type": "code",
   "execution_count": null,
   "metadata": {},
   "outputs": [],
   "source": [
    "len(c[(c['H'] > 3000)&(c['HR'] >=500)])"
   ]
  },
  {
   "cell_type": "markdown",
   "metadata": {
    "collapsed": true
   },
   "source": [
    "# 16) How many HRs were hit during the entire 1988 season?  Just a number is okay here"
   ]
  },
  {
   "cell_type": "code",
   "execution_count": null,
   "metadata": {},
   "outputs": [],
   "source": [
    "batting[(batting['yearID']==1988)][['HR']].sum()"
   ]
  },
  {
   "cell_type": "markdown",
   "metadata": {},
   "source": [
    "# 17) Please filter out and show me the top 3 average seasons by Wade Boggs during his career in seasons in which he had at least 500 ABs.  I would like a dataframe sorted by average.\n"
   ]
  },
  {
   "cell_type": "code",
   "execution_count": null,
   "metadata": {},
   "outputs": [],
   "source": [
    "u[(u['nameFirst']=='Wade')&(u['nameLast']=='Boggs')&(u['AB']>=500)][['yearID','playerID','nameFirst','nameLast','Average']].sort_values(by='Average',ascending=False).iloc[0:3]"
   ]
  },
  {
   "cell_type": "markdown",
   "metadata": {},
   "source": [
    "# 18) Please filter out the top OBPs for the 1995 season with at least 400 PAs, sorted by OBP.  I would like a dataframe for this"
   ]
  },
  {
   "cell_type": "code",
   "execution_count": null,
   "metadata": {},
   "outputs": [],
   "source": [
    "u[(u['yearID']==1995)&(u['PA']>=400)][['playerID','nameFirst','nameLast','OBP','PA']].sort_values(by='OBP',ascending = False).head()"
   ]
  },
  {
   "cell_type": "markdown",
   "metadata": {},
   "source": [
    "# 19) Who had the most 3Bs (in total) in 1922, 1925, 1926, and 1928?  I would like a dataframe with just the leader"
   ]
  },
  {
   "cell_type": "code",
   "execution_count": null,
   "metadata": {},
   "outputs": [],
   "source": [
    "gy= batting[(batting['yearID']).isin(['1922','1925','1926','1928'])].groupby(['yearID','playerID','nameFirst','nameLast']).agg({'3B':'sum'})\n",
    "gq=gy.reset_index()\n",
    "gq.groupby(['yearID']).apply(lambda gp:gp[gp['3B']==gp['3B'].max()])"
   ]
  },
  {
   "cell_type": "markdown",
   "metadata": {},
   "source": [
    "# 20) How many players have hit 30 or more HRs in season while also stealing (SB) 30 more or bases?  A number is okay here"
   ]
  },
  {
   "cell_type": "code",
   "execution_count": null,
   "metadata": {
    "collapsed": true
   },
   "outputs": [],
   "source": [
    "gs=batting.groupby(['playerID','yearID'],as_index = False).agg({'HR':'sum','SB':'sum'})\n"
   ]
  },
  {
   "cell_type": "code",
   "execution_count": null,
   "metadata": {},
   "outputs": [],
   "source": [
    "gs[(gs.HR>=30)&(gs.SB>=30)]['playerID'].nunique()"
   ]
  },
  {
   "cell_type": "markdown",
   "metadata": {},
   "source": [
    "# 21) Who had the highest OBP is 1986 with at least 400 PAs? (Dataframe)"
   ]
  },
  {
   "cell_type": "code",
   "execution_count": null,
   "metadata": {},
   "outputs": [],
   "source": [
    "u1986=u[(u.yearID==1986)]\n",
    "\n",
    "upa = u1986.groupby(['playerID','nameFirst','nameLast'],as_index = False).agg({'OBP':'max','PA':'sum'})\n",
    "uo4=upa[(upa.PA>=400)]\n"
   ]
  },
  {
   "cell_type": "code",
   "execution_count": null,
   "metadata": {},
   "outputs": [],
   "source": [
    "uo4[(uo4.OBP==uo4.OBP.max())]"
   ]
  },
  {
   "cell_type": "markdown",
   "metadata": {},
   "source": [
    "# 22) Same question but for 1997 and only in the NL (check league ID)? (Dataframe)"
   ]
  },
  {
   "cell_type": "code",
   "execution_count": null,
   "metadata": {
    "collapsed": true
   },
   "outputs": [],
   "source": [
    "u1997=u[(u.yearID==1997)&(u.lgID=='NL')]\n",
    "upp=u1997.groupby(['playerID','nameFirst','nameLast'],as_index = False).agg({'OBP':'max','PA':'sum'})\n",
    "up4=upp[(upp.PA>=400)]"
   ]
  },
  {
   "cell_type": "code",
   "execution_count": null,
   "metadata": {},
   "outputs": [],
   "source": [
    "up4[up4.OBP==up4.OBP.max()]"
   ]
  },
  {
   "cell_type": "markdown",
   "metadata": {},
   "source": [
    "# 23) Who had more than the league average HRs in 2012 (filter out all players with less 500 PAs)? (Dataframe)"
   ]
  },
  {
   "cell_type": "code",
   "execution_count": null,
   "metadata": {
    "collapsed": true
   },
   "outputs": [],
   "source": [
    "bl = u[(u.yearID==2012)&(u.PA>=500)].groupby('lgID')"
   ]
  },
  {
   "cell_type": "code",
   "execution_count": null,
   "metadata": {},
   "outputs": [],
   "source": [
    "bl.apply(lambda tt:tt[(tt.HR>tt.HR.mean())])"
   ]
  },
  {
   "cell_type": "markdown",
   "metadata": {},
   "source": [
    "# 24) Who is the youngest player to hit 50 or more HRs in a single season? (Dataframe)"
   ]
  },
  {
   "cell_type": "code",
   "execution_count": null,
   "metadata": {
    "collapsed": true
   },
   "outputs": [],
   "source": [
    "batting['Age']=batting['yearID']-batting['birthYear']"
   ]
  },
  {
   "cell_type": "code",
   "execution_count": null,
   "metadata": {},
   "outputs": [],
   "source": [
    "gyp = batting.groupby(['yearID','Age','playerID','nameFirst','nameLast'],as_index=False).agg({'HR':'sum'})\n",
    "\n",
    "gyp[gyp.HR>=50].sort_values(by='Age').head(1)"
   ]
  },
  {
   "cell_type": "markdown",
   "metadata": {},
   "source": [
    "# 25) Who are the five youngest players to hit 300 or more HRs for their career? (Dataframe)"
   ]
  },
  {
   "cell_type": "code",
   "execution_count": null,
   "metadata": {},
   "outputs": [],
   "source": [
    "qq=batting.groupby(['playerID','nameFirst','nameLast']).agg({'HR':'sum','Age':'mean'})"
   ]
  },
  {
   "cell_type": "code",
   "execution_count": null,
   "metadata": {},
   "outputs": [],
   "source": [
    "qq[(qq['HR']>=300)].sort_values(by='Age').head(5)"
   ]
  },
  {
   "cell_type": "markdown",
   "metadata": {
    "collapsed": true
   },
   "source": [
    "# 26)Graph total HRs per season using bar graph"
   ]
  },
  {
   "cell_type": "code",
   "execution_count": null,
   "metadata": {
    "collapsed": true
   },
   "outputs": [],
   "source": [
    "import matplotlib.pyplot as plt\n",
    "%matplotlib inline"
   ]
  },
  {
   "cell_type": "code",
   "execution_count": null,
   "metadata": {
    "scrolled": true
   },
   "outputs": [],
   "source": [
    "by = batting.groupby('yearID',as_index=False).agg({'HR':sum})\n",
    "plt.bar(by['yearID'], by['HR'])\n",
    "plt.axes().set(xlabel='Seasons', ylabel='Total HRs', title='Total HRs per season')"
   ]
  },
  {
   "cell_type": "markdown",
   "metadata": {},
   "source": [
    "# 27)Using a line graph please graph the average HRs per AB (think about this) per season"
   ]
  },
  {
   "cell_type": "code",
   "execution_count": null,
   "metadata": {},
   "outputs": [],
   "source": [
    "byq= batting.groupby(['yearID'],as_index=False).agg({'HR':sum,'AB':sum})\n",
    "byq['HRs per AB'] = byq['HR']/byq['AB']\n",
    "plt.plot(byq['yearID'].values,byq['HRs per AB'].values)\n",
    "plt.axes().set(xlabel='Season',ylabel='HRs per AB',title='the Average HRs per AB per season')"
   ]
  },
  {
   "cell_type": "markdown",
   "metadata": {
    "collapsed": true
   },
   "source": [
    "Github Link: https://github.com/danjin1986/6340HW1"
   ]
  }
 ],
 "metadata": {
  "kernelspec": {
   "display_name": "Python 3",
   "language": "python",
   "name": "python3"
  },
  "language_info": {
   "codemirror_mode": {
    "name": "ipython",
    "version": 3
   },
   "file_extension": ".py",
   "mimetype": "text/x-python",
   "name": "python",
   "nbconvert_exporter": "python",
   "pygments_lexer": "ipython3",
   "version": "3.6.3"
  }
 },
 "nbformat": 4,
 "nbformat_minor": 2
}
